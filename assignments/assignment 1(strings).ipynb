{
 "cells": [
  {
   "cell_type": "markdown",
   "id": "182a8ee3",
   "metadata": {},
   "source": [
    "# ASSIGNMENT-1"
   ]
  },
  {
   "cell_type": "code",
   "execution_count": 1,
   "id": "74fbaa05",
   "metadata": {},
   "outputs": [],
   "source": [
    "s=\"this is My First Python programming class and i am learNING python string and its function\""
   ]
  },
  {
   "cell_type": "markdown",
   "id": "9b333098",
   "metadata": {},
   "source": [
    "1. try to extract the data from index one to 300 with a jump of 3"
   ]
  },
  {
   "cell_type": "code",
   "execution_count": 2,
   "id": "c9ace711",
   "metadata": {},
   "outputs": [
    {
     "data": {
      "text/plain": [
       "'h   r tnrrmglsnimeNGyosi dtfco'"
      ]
     },
     "execution_count": 2,
     "metadata": {},
     "output_type": "execute_result"
    }
   ],
   "source": [
    "s[1:300:3]"
   ]
  },
  {
   "cell_type": "markdown",
   "id": "126a9b5a",
   "metadata": {},
   "source": [
    " "
   ]
  },
  {
   "cell_type": "markdown",
   "id": "b6d47eb5",
   "metadata": {},
   "source": [
    " 2. try to reverse a string without using reverse function"
   ]
  },
  {
   "cell_type": "code",
   "execution_count": 3,
   "id": "f0b50f4a",
   "metadata": {},
   "outputs": [
    {
     "data": {
      "text/plain": [
       "'noitcnuf sti dna gnirts nohtyp GNINrael ma i dna ssalc gnimmargorp nohtyP tsriF yM si siht'"
      ]
     },
     "execution_count": 3,
     "metadata": {},
     "output_type": "execute_result"
    }
   ],
   "source": [
    "s[::-1]"
   ]
  },
  {
   "cell_type": "markdown",
   "id": "ad1052bf",
   "metadata": {},
   "source": [
    " "
   ]
  },
  {
   "cell_type": "markdown",
   "id": "50ee363f",
   "metadata": {},
   "source": [
    "3. try to split a string after conversion of entire string in uppercase"
   ]
  },
  {
   "cell_type": "code",
   "execution_count": 4,
   "id": "1345ffc4",
   "metadata": {},
   "outputs": [
    {
     "data": {
      "text/plain": [
       "['THIS',\n",
       " 'IS',\n",
       " 'MY',\n",
       " 'FIRST',\n",
       " 'PYTHON',\n",
       " 'PROGRAMMING',\n",
       " 'CLASS',\n",
       " 'AND',\n",
       " 'I',\n",
       " 'AM',\n",
       " 'LEARNING',\n",
       " 'PYTHON',\n",
       " 'STRING',\n",
       " 'AND',\n",
       " 'ITS',\n",
       " 'FUNCTION']"
      ]
     },
     "execution_count": 4,
     "metadata": {},
     "output_type": "execute_result"
    }
   ],
   "source": [
    "s=s.upper()\n",
    "s.split()"
   ]
  },
  {
   "cell_type": "markdown",
   "id": "3e103775",
   "metadata": {},
   "source": [
    " "
   ]
  },
  {
   "cell_type": "markdown",
   "id": "8a73beee",
   "metadata": {},
   "source": [
    "4. try to convert the whole string into lower case"
   ]
  },
  {
   "cell_type": "code",
   "execution_count": 5,
   "id": "8d403856",
   "metadata": {},
   "outputs": [
    {
     "data": {
      "text/plain": [
       "'this is my first python programming class and i am learning python string and its function'"
      ]
     },
     "execution_count": 5,
     "metadata": {},
     "output_type": "execute_result"
    }
   ],
   "source": [
    "s.lower()"
   ]
  },
  {
   "cell_type": "markdown",
   "id": "cd3fc600",
   "metadata": {},
   "source": [
    " "
   ]
  },
  {
   "cell_type": "markdown",
   "id": "a617f9e9",
   "metadata": {},
   "source": [
    "5. try to capitalize the whole string"
   ]
  },
  {
   "cell_type": "code",
   "execution_count": 6,
   "id": "670bd6eb",
   "metadata": {},
   "outputs": [
    {
     "data": {
      "text/plain": [
       "'This is my first python programming class and i am learning python string and its function'"
      ]
     },
     "execution_count": 6,
     "metadata": {},
     "output_type": "execute_result"
    }
   ],
   "source": [
    "s.capitalize()"
   ]
  },
  {
   "cell_type": "markdown",
   "id": "b6513943",
   "metadata": {},
   "source": [
    " "
   ]
  },
  {
   "cell_type": "markdown",
   "id": "3f38dbaf",
   "metadata": {},
   "source": [
    "6. write a difference between isalnum() and isalpha()"
   ]
  },
  {
   "cell_type": "code",
   "execution_count": 7,
   "id": "927ce4a4",
   "metadata": {},
   "outputs": [
    {
     "name": "stdout",
     "output_type": "stream",
     "text": [
      "False\n",
      "True\n",
      "True\n",
      "True\n",
      "False\n"
     ]
    }
   ],
   "source": [
    "    # isalnum()\n",
    "    #  1. it is a built in python function that checks whether all ccharacters in a string are alphanumEric.\n",
    "    #  2. if all characters are aalphanumeric or numeric  isalnum() returns the True value otherwise the method returns False\n",
    "    s=\"this is My First Python programming class and i am learNING python string and its function\"\n",
    "    print(s.isalnum())    # it returns False because of all characters are strings only\n",
    "    s1='684019'\n",
    "    print(s1.isalnum())   # it returns True value because it is numeric \n",
    "    s2='684019alphabetsafternumber' # it returns true value because alphanumeric \n",
    "    print(s2.isalnum())\n",
    "    s2='alphabetsbeforenumber684019' # it returns true value because alphanumeric \n",
    "    print(s2.isalnum())\n",
    "    s3='alphabets before number684019' # it returns false value because it has special characters also other than alphbets and numbers \n",
    "    print(s3.isalnum())"
   ]
  },
  {
   "cell_type": "code",
   "execution_count": 8,
   "id": "10fe745d",
   "metadata": {},
   "outputs": [
    {
     "name": "stdout",
     "output_type": "stream",
     "text": [
      "True\n",
      "False\n",
      "False\n",
      "False\n",
      "False\n"
     ]
    }
   ],
   "source": [
    "    # isalpha() \n",
    "    # 1. isalpha() is a string method used to check whether a string consists of only alphabetical character.\n",
    "    # 2. if all characters are alphabetics isalpha() returns the True value otherwise the method returns False\n",
    "    s=\"thisisMyFirstPythonprogramming\"\n",
    "    print(s.isalpha())    # it returns True because of all characters are strings only\n",
    "    s1='684019'\n",
    "    print(s1.isalpha())   # it returns False value because it is numeric \n",
    "    s2='684019alphabetsafternumber' # it returns False value because alphanumeric \n",
    "    print(s2.isalpha())\n",
    "    s2='alphabetsbeforenumber684019' # it returns False value because alphanumeric \n",
    "    print(s2.isalpha())\n",
    "    s3='alphabets before number' # it returns false value because it has special characters also other than alphbets\n",
    "    print(s3.isalpha())"
   ]
  },
  {
   "cell_type": "markdown",
   "id": "2c8216f6",
   "metadata": {},
   "source": [
    " "
   ]
  },
  {
   "cell_type": "markdown",
   "id": "15911f53",
   "metadata": {},
   "source": [
    "7. try to give an example of expand tab"
   ]
  },
  {
   "cell_type": "code",
   "execution_count": 9,
   "id": "b11a1a30",
   "metadata": {},
   "outputs": [
    {
     "name": "stdout",
     "output_type": "stream",
     "text": [
      "this    is      the     example for     tab     space   between the     words\n",
      "this    is      the     example for     tab     space   between the     words\n",
      "this    is  the example for tab space   between the words\n",
      "this         is           the          example      for          tab          space        between      the          words\n"
     ]
    }
   ],
   "source": [
    "    # expandtabs()\n",
    "    # it is used to specify the the space between the data\n",
    "    # tabsize is optional and default it takes 8 whitespaces\n",
    "    text=\"this\\tis\\tthe\\texample\\tfor\\ttab\\tspace\\tbetween\\tthe\\twords\"\n",
    "    print(text.expandtabs())\n",
    "    print(text.expandtabs(8))\n",
    "    print(text.expandtabs(4))\n",
    "    print(text.expandtabs(13))\n",
    "    "
   ]
  },
  {
   "cell_type": "markdown",
   "id": "76d3e356",
   "metadata": {},
   "source": [
    " "
   ]
  },
  {
   "cell_type": "markdown",
   "id": "dddd2d16",
   "metadata": {},
   "source": [
    "8. give an example of strip,lstrip,rstrip"
   ]
  },
  {
   "cell_type": "code",
   "execution_count": 10,
   "id": "14b0b057",
   "metadata": {},
   "outputs": [
    {
     "name": "stdout",
     "output_type": "stream",
     "text": [
      "this is My First Python programming class and i am learNING python string and its function\n",
      "    this is My First Python programming class and i am learNING python string and its function\n",
      "this is My First Python programming class and i am learNING python string and its function    \n"
     ]
    }
   ],
   "source": [
    "    # strip() \n",
    "    # it is used to remove the spaces at the beginning and ending of the data\n",
    "    # rstrip()\n",
    "    # it is used to remove the spaces at the ending of the data\n",
    "    # lstrip()\n",
    "    # it is used to remove the spaces at the beginning of the data\n",
    "    s=\"    this is My First Python programming class and i am learNING python string and its function    \"\n",
    "    print(s.strip())\n",
    "    print(s.rstrip())\n",
    "    print(s.lstrip())"
   ]
  },
  {
   "cell_type": "markdown",
   "id": "6a73a834",
   "metadata": {},
   "source": [
    " "
   ]
  },
  {
   "cell_type": "markdown",
   "id": "8df64057",
   "metadata": {},
   "source": [
    "9. Replace a string character by another character by taking your own example \"jayanthi\""
   ]
  },
  {
   "cell_type": "code",
   "execution_count": 11,
   "id": "0376943a",
   "metadata": {},
   "outputs": [
    {
     "name": "stdout",
     "output_type": "stream",
     "text": [
      "the subject python is teached by jayanthi mam and this subject has 4 credits\n",
      "the subject python is teached by jayanthi mam and this subject has 4 credits\n",
      "the object python is teach subject by jayanthi mam and this object has 4 credits\n"
     ]
    }
   ],
   "source": [
    "    # replace()\n",
    "    # replace() method is used to replace the old string with new string\n",
    "    # syntax :\n",
    "        # replace(old string,new string)   default this replace all the old string values to the new string values\n",
    "        # replace(old string,new string,count)   count tells how many times you want to replace\n",
    "    data=\"the subject python is teached by Roopa mam and this subject has 4 credits\" \n",
    "    print(data.replace(\"Roopa\",\"jayanthi\"))\n",
    "    data=\"the object python is teached by jayanthi mam and this object has 4 credits\" \n",
    "    print(data.replace(\"object\",\"subject\"))\n",
    "    print(data.replace(\"ed\",\" subject\",1))"
   ]
  },
  {
   "cell_type": "markdown",
   "id": "2b95c204",
   "metadata": {},
   "source": [
    " "
   ]
  },
  {
   "cell_type": "markdown",
   "id": "f716d591",
   "metadata": {},
   "source": [
    "10. try to give a definition of string center function with an example"
   ]
  },
  {
   "cell_type": "code",
   "execution_count": 12,
   "id": "30ba1bca",
   "metadata": {},
   "outputs": [
    {
     "name": "stdout",
     "output_type": "stream",
     "text": [
      "                                      center alignment method                                       \n",
      "______________________________________center alignment method_______________________________________\n"
     ]
    }
   ],
   "source": [
    "    # center() \n",
    "    # it is used dot center alighment of the data\n",
    "    #Syntax:\n",
    "        # center(length of the string)  default it takes the whitespaces \n",
    "        # center(length of the string,character)\n",
    "    data=\"center alignment method\"\n",
    "    print(data.center(100))\n",
    "    print(data.center(100,'_'))"
   ]
  },
  {
   "cell_type": "markdown",
   "id": "1fbda549",
   "metadata": {},
   "source": [
    " "
   ]
  },
  {
   "cell_type": "markdown",
   "id": "adee8c9b",
   "metadata": {},
   "source": [
    "11. write your own definition of compiler and interpretor without copy paste from the internet in your own language"
   ]
  },
  {
   "cell_type": "markdown",
   "id": "1419e07a",
   "metadata": {},
   "source": [
    "    #    compiler \n",
    "        1. it takes the entire program in one go\n",
    "        2. the compiler generates an intermediate machine code\n",
    "            examples: c,c++,c#,java\n",
    "            \n",
    "    #   interpretor\n",
    "        1.it takes a single line of code at a time\n",
    "        2.it never produce intermediate machine code.\n",
    "            examples: python,PHP, Perl,Ruby.\n"
   ]
  },
  {
   "cell_type": "markdown",
   "id": "7ec57eb2",
   "metadata": {},
   "source": [
    " "
   ]
  },
  {
   "cell_type": "markdown",
   "id": "033b526d",
   "metadata": {},
   "source": [
    "12. Python is a interpreted of compiled language give a clear ans with your understanding"
   ]
  },
  {
   "cell_type": "markdown",
   "id": "d6dc3c4b",
   "metadata": {},
   "source": [
    "  python is a interpreted language.it takes a single line of code at a time to exicuttion.\n",
    "the source of python program is converted into bytecode.\n",
    "  the bytecode is executed by the python virtual machine.\n",
    "  so python is interpreted of compiled language.\n",
    "  "
   ]
  },
  {
   "cell_type": "markdown",
   "id": "ca2a016c",
   "metadata": {},
   "source": [
    " "
   ]
  }
 ],
 "metadata": {
  "kernelspec": {
   "display_name": "Python 3",
   "language": "python",
   "name": "python3"
  },
  "language_info": {
   "codemirror_mode": {
    "name": "ipython",
    "version": 3
   },
   "file_extension": ".py",
   "mimetype": "text/x-python",
   "name": "python",
   "nbconvert_exporter": "python",
   "pygments_lexer": "ipython3",
   "version": "3.8.8"
  }
 },
 "nbformat": 4,
 "nbformat_minor": 5
}
