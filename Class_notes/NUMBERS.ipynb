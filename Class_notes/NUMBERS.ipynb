{
 "cells": [
  {
   "cell_type": "markdown",
   "id": "6e5f1a2e",
   "metadata": {},
   "source": [
    "# PYTHON"
   ]
  },
  {
   "cell_type": "raw",
   "id": "1b889a41",
   "metadata": {},
   "source": [
    "# is used to comment the data in the code to clarify the code or instruction"
   ]
  },
  {
   "cell_type": "markdown",
   "id": "94d4546d",
   "metadata": {},
   "source": [
    "# Numbers"
   ]
  },
  {
   "cell_type": "code",
   "execution_count": 1,
   "id": "7c2a5660",
   "metadata": {},
   "outputs": [
    {
     "data": {
      "text/plain": [
       "13"
      ]
     },
     "execution_count": 1,
     "metadata": {},
     "output_type": "execute_result"
    }
   ],
   "source": [
    "# + is used to add the data\n",
    "\n",
    "7+6"
   ]
  },
  {
   "cell_type": "code",
   "execution_count": 2,
   "id": "d5de6fdf",
   "metadata": {},
   "outputs": [
    {
     "data": {
      "text/plain": [
       "10"
      ]
     },
     "execution_count": 2,
     "metadata": {},
     "output_type": "execute_result"
    }
   ],
   "source": [
    "# - is used to subtract the data\n",
    "\n",
    "15-5"
   ]
  },
  {
   "cell_type": "code",
   "execution_count": 3,
   "id": "7d2f37c3",
   "metadata": {},
   "outputs": [
    {
     "data": {
      "text/plain": [
       "28"
      ]
     },
     "execution_count": 3,
     "metadata": {},
     "output_type": "execute_result"
    }
   ],
   "source": [
    "# * is used to multiply the data\n",
    "\n",
    "4*7"
   ]
  },
  {
   "cell_type": "code",
   "execution_count": 4,
   "id": "8040a9de",
   "metadata": {},
   "outputs": [
    {
     "data": {
      "text/plain": [
       "5.666666666666667"
      ]
     },
     "execution_count": 4,
     "metadata": {},
     "output_type": "execute_result"
    }
   ],
   "source": [
    "# / is used to divide the data and it gives fractional values also\n",
    "17/3"
   ]
  },
  {
   "cell_type": "code",
   "execution_count": 5,
   "id": "b3d74ce1",
   "metadata": {},
   "outputs": [
    {
     "data": {
      "text/plain": [
       "5"
      ]
     },
     "execution_count": 5,
     "metadata": {},
     "output_type": "execute_result"
    }
   ],
   "source": [
    "# // is used to discard the fractional part\n",
    "\n",
    "17//3"
   ]
  },
  {
   "cell_type": "code",
   "execution_count": 6,
   "id": "043f2b50",
   "metadata": {},
   "outputs": [
    {
     "data": {
      "text/plain": [
       "3"
      ]
     },
     "execution_count": 6,
     "metadata": {},
     "output_type": "execute_result"
    }
   ],
   "source": [
    "# % is returns the remainder of the division\n",
    "\n",
    "19%4"
   ]
  },
  {
   "cell_type": "code",
   "execution_count": 7,
   "id": "f8e1ef13",
   "metadata": {},
   "outputs": [
    {
     "data": {
      "text/plain": [
       "1024"
      ]
     },
     "execution_count": 7,
     "metadata": {},
     "output_type": "execute_result"
    }
   ],
   "source": [
    "# ** side to indicate the power\n",
    "\n",
    "2**10    # 2 power 10"
   ]
  }
 ],
 "metadata": {
  "kernelspec": {
   "display_name": "Python 3",
   "language": "python",
   "name": "python3"
  },
  "language_info": {
   "codemirror_mode": {
    "name": "ipython",
    "version": 3
   },
   "file_extension": ".py",
   "mimetype": "text/x-python",
   "name": "python",
   "nbconvert_exporter": "python",
   "pygments_lexer": "ipython3",
   "version": "3.8.8"
  }
 },
 "nbformat": 4,
 "nbformat_minor": 5
}
