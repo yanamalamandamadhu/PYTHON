{
 "cells": [
  {
   "cell_type": "markdown",
   "id": "6ba58d8a",
   "metadata": {},
   "source": [
    "#   BASICS"
   ]
  },
  {
   "cell_type": "markdown",
   "id": "22938dc1",
   "metadata": {},
   "source": [
    "# printing of all keywords in python"
   ]
  },
  {
   "cell_type": "code",
   "execution_count": 1,
   "id": "a88a94f4",
   "metadata": {},
   "outputs": [
    {
     "name": "stdout",
     "output_type": "stream",
     "text": [
      "['False', 'None', 'True', 'and', 'as', 'assert', 'async', 'await', 'break', 'class', 'continue', 'def', 'del', 'elif', 'else', 'except', 'finally', 'for', 'from', 'global', 'if', 'import', 'in', 'is', 'lambda', 'nonlocal', 'not', 'or', 'pass', 'raise', 'return', 'try', 'while', 'with', 'yield']\n"
     ]
    }
   ],
   "source": [
    "import keyword                 #we have to import keywords using keyword\n",
    "print(keyword.kwlist)"
   ]
  },
  {
   "cell_type": "markdown",
   "id": "e90351ba",
   "metadata": {},
   "source": [
    "# creating of strings using quotes"
   ]
  },
  {
   "cell_type": "code",
   "execution_count": 2,
   "id": "9b523858",
   "metadata": {},
   "outputs": [
    {
     "name": "stdout",
     "output_type": "stream",
     "text": [
      "creating string using single quotes\n"
     ]
    },
    {
     "data": {
      "text/plain": [
       "str"
      ]
     },
     "execution_count": 2,
     "metadata": {},
     "output_type": "execute_result"
    }
   ],
   "source": [
    "string='creating string using single quotes'\n",
    "print(string)\n",
    "type(string)"
   ]
  },
  {
   "cell_type": "code",
   "execution_count": 3,
   "id": "a8d0220e",
   "metadata": {},
   "outputs": [
    {
     "ename": "SyntaxError",
     "evalue": "invalid syntax (<ipython-input-3-339bd3449e41>, line 1)",
     "output_type": "error",
     "traceback": [
      "\u001b[1;36m  File \u001b[1;32m\"<ipython-input-3-339bd3449e41>\"\u001b[1;36m, line \u001b[1;32m1\u001b[0m\n\u001b[1;33m    string='creating string using single quote and trying to inserting ' quote '\u001b[0m\n\u001b[1;37m                                                                         ^\u001b[0m\n\u001b[1;31mSyntaxError\u001b[0m\u001b[1;31m:\u001b[0m invalid syntax\n"
     ]
    }
   ],
   "source": [
    "string='creating string using single quote and trying to inserting ' quote '      \n",
    "print(string)\n",
    "type(string)"
   ]
  },
  {
   "cell_type": "markdown",
   "id": "e126001e",
   "metadata": {},
   "source": [
    "    # by the above code we have noticed we cannot insert a ' in a single quote string"
   ]
  },
  {
   "cell_type": "code",
   "execution_count": 4,
   "id": "915ebb5e",
   "metadata": {},
   "outputs": [
    {
     "name": "stdout",
     "output_type": "stream",
     "text": [
      "creating string using single quote and trying to inserting ' quote \n"
     ]
    },
    {
     "data": {
      "text/plain": [
       "str"
      ]
     },
     "execution_count": 4,
     "metadata": {},
     "output_type": "execute_result"
    }
   ],
   "source": [
    "string='creating string using single quote and trying to inserting \\' quote '      \n",
    "print(string)\n",
    "type(string)"
   ]
  },
  {
   "cell_type": "markdown",
   "id": "2cb92178",
   "metadata": {},
   "source": [
    "    #  we have used \\ to insert the ' in the single quote string\n",
    "       this are termed as escape sequence."
   ]
  },
  {
   "cell_type": "code",
   "execution_count": 5,
   "id": "4a660f85",
   "metadata": {},
   "outputs": [
    {
     "name": "stdout",
     "output_type": "stream",
     "text": [
      "creating string using double quotes\n"
     ]
    },
    {
     "data": {
      "text/plain": [
       "str"
      ]
     },
     "execution_count": 5,
     "metadata": {},
     "output_type": "execute_result"
    }
   ],
   "source": [
    "string=\"creating string using double quotes\"\n",
    "print(string)\n",
    "type(string)"
   ]
  },
  {
   "cell_type": "code",
   "execution_count": 6,
   "id": "b075357f",
   "metadata": {},
   "outputs": [
    {
     "name": "stdout",
     "output_type": "stream",
     "text": [
      "creating string using double quotes and trying to inserting ' quote\n"
     ]
    },
    {
     "data": {
      "text/plain": [
       "str"
      ]
     },
     "execution_count": 6,
     "metadata": {},
     "output_type": "execute_result"
    }
   ],
   "source": [
    "string=\"creating string using double quotes and trying to inserting ' quote\"\n",
    "print(string)\n",
    "type(string)"
   ]
  },
  {
   "cell_type": "markdown",
   "id": "2864b6e5",
   "metadata": {},
   "source": [
    "    # by the above code we noticed we can insert a ' in a double quote string"
   ]
  },
  {
   "cell_type": "code",
   "execution_count": 7,
   "id": "03276deb",
   "metadata": {},
   "outputs": [
    {
     "ename": "SyntaxError",
     "evalue": "invalid syntax (<ipython-input-7-2f9968547edc>, line 1)",
     "output_type": "error",
     "traceback": [
      "\u001b[1;36m  File \u001b[1;32m\"<ipython-input-7-2f9968547edc>\"\u001b[1;36m, line \u001b[1;32m1\u001b[0m\n\u001b[1;33m    string=\"creating string using double quotes and trying to inserting \" quote\"\u001b[0m\n\u001b[1;37m                                                                          ^\u001b[0m\n\u001b[1;31mSyntaxError\u001b[0m\u001b[1;31m:\u001b[0m invalid syntax\n"
     ]
    }
   ],
   "source": [
    "string=\"creating string using double quotes and trying to inserting \" quote\"\n",
    "print(string)\n",
    "type(string)"
   ]
  },
  {
   "cell_type": "markdown",
   "id": "15732f38",
   "metadata": {},
   "source": [
    "    # by the above code we have noticed we cannot insert a \" in a double quote string"
   ]
  },
  {
   "cell_type": "code",
   "execution_count": 8,
   "id": "a62f09a5",
   "metadata": {},
   "outputs": [
    {
     "name": "stdout",
     "output_type": "stream",
     "text": [
      "creating string using double quotes and trying to inserting \" quote\n"
     ]
    },
    {
     "data": {
      "text/plain": [
       "str"
      ]
     },
     "execution_count": 8,
     "metadata": {},
     "output_type": "execute_result"
    }
   ],
   "source": [
    "string=\"creating string using double quotes and trying to inserting \\\" quote\"\n",
    "print(string)\n",
    "type(string)"
   ]
  },
  {
   "cell_type": "markdown",
   "id": "c93b844a",
   "metadata": {},
   "source": [
    "    # we have used \\ to insert the ' in the single quote string"
   ]
  },
  {
   "cell_type": "code",
   "execution_count": 9,
   "id": "0154d2c9",
   "metadata": {},
   "outputs": [
    {
     "ename": "SyntaxError",
     "evalue": "EOL while scanning string literal (<ipython-input-9-c7550ba08e14>, line 1)",
     "output_type": "error",
     "traceback": [
      "\u001b[1;36m  File \u001b[1;32m\"<ipython-input-9-c7550ba08e14>\"\u001b[1;36m, line \u001b[1;32m1\u001b[0m\n\u001b[1;33m    string=\"People usually forgets to switch off light and fans after use at public places or class rooms. This leads to wastage of power or electricity. This method puts forward to provide automated services to class room and at the same time avoiding any unnecessary usage of power. The solution for the problem is Automatic Fan and Light Control System using Arduino\u001b[0m\n\u001b[1;37m                                                                                                                                                                                                                                                                                                                                                                                  ^\u001b[0m\n\u001b[1;31mSyntaxError\u001b[0m\u001b[1;31m:\u001b[0m EOL while scanning string literal\n"
     ]
    }
   ],
   "source": [
    "string=\"People usually forgets to switch off light and fans after use at public places or class rooms. This leads to wastage of power or electricity. This method puts forward to provide automated services to class room and at the same time avoiding any unnecessary usage of power. The solution for the problem is Automatic Fan and Light Control System using Arduino \n",
    "The main objective was to design a solution for wastage of power which is more optimized with less complexity and more efficient. With the help of ultrasonic distance sensor we can identify the range of  human and when the human is in range then it checks for light intensity and temperature. With the help of photo diode we take the light intensity values, if the intensity of light is less then light will glow. With the help of temperature sensor we take the temperature values, based on the temperature details the fan will work. Arduino platform was designed to provide cheaper way to create applications that play in the human interface world using sensors, actuators, motors and other products. \n",
    "\"\n",
    "print(string)"
   ]
  },
  {
   "cell_type": "markdown",
   "id": "1101124a",
   "metadata": {},
   "source": [
    "    #  in the above code we have tried to write the more data in the double quotes \n",
    "       we cannot write the more data in the double quote"
   ]
  },
  {
   "cell_type": "code",
   "execution_count": 10,
   "id": "1244b4c9",
   "metadata": {},
   "outputs": [
    {
     "name": "stdout",
     "output_type": "stream",
     "text": [
      "People usually forgets to switch off light and fans after use at public places or class rooms. This leads to wastage of power or electricity. This method puts forward to provide automated services to class room and at the same time avoiding any unnecessary usage of power. The solution for the problem is Automatic Fan and Light Control System using Arduino \n",
      "The main objective was to design a solution for wastage of power which is more optimized with less complexity and more efficient\n"
     ]
    },
    {
     "data": {
      "text/plain": [
       "str"
      ]
     },
     "execution_count": 10,
     "metadata": {},
     "output_type": "execute_result"
    }
   ],
   "source": [
    "string='''People usually forgets to switch off light and fans after use at public places or class rooms. This leads to wastage of power or electricity. This method puts forward to provide automated services to class room and at the same time avoiding any unnecessary usage of power. The solution for the problem is Automatic Fan and Light Control System using Arduino \n",
    "The main objective was to design a solution for wastage of power which is more optimized with less complexity and more efficient''' \n",
    "print(string)\n",
    "type(string)"
   ]
  },
  {
   "cell_type": "markdown",
   "id": "eb01f501",
   "metadata": {},
   "source": [
    "     #  from above code we noticed that triple single quotes are used for muiltiline of string data"
   ]
  },
  {
   "cell_type": "code",
   "execution_count": 11,
   "id": "367c5872",
   "metadata": {},
   "outputs": [
    {
     "name": "stdout",
     "output_type": "stream",
     "text": [
      "People usually forgets to switch off light and fans after use at public places or class rooms. This leads to wastage of power or electricity. This method puts forward to provide automated services to class room and at the same time avoiding any unnecessary usage of power. The 'solution for the problem' is Automatic Fan and Light Control System using Arduino \n",
      "The main objective was to design a solution for wastage of power which is more optimized with less complexity and more efficient\n"
     ]
    },
    {
     "data": {
      "text/plain": [
       "str"
      ]
     },
     "execution_count": 11,
     "metadata": {},
     "output_type": "execute_result"
    }
   ],
   "source": [
    "string='''People usually forgets to switch off light and fans after use at public places or class rooms. This leads to wastage of power or electricity. This method puts forward to provide automated services to class room and at the same time avoiding any unnecessary usage of power. The 'solution for the problem' is Automatic Fan and Light Control System using Arduino \n",
    "The main objective was to design a solution for wastage of power which is more optimized with less complexity and more efficient''' \n",
    "print(string)\n",
    "type(string)"
   ]
  },
  {
   "cell_type": "markdown",
   "id": "fe63f6d7",
   "metadata": {},
   "source": [
    "    # by the above code we noticed we can insert a ' in a triple single quotes"
   ]
  },
  {
   "cell_type": "code",
   "execution_count": 12,
   "id": "9fc8fae0",
   "metadata": {},
   "outputs": [
    {
     "name": "stdout",
     "output_type": "stream",
     "text": [
      "People usually forgets to switch off light and fans after use at public places or class rooms. This leads to wastage of power or electricity. This method puts forward to provide automated services to class room and at the same time avoiding any unnecessary usage of power. The \"solution for the problem\" is Automatic Fan and Light Control System using Arduino \n",
      "The main objective was to design a solution for wastage of power which is more optimized with less complexity and more efficient\n"
     ]
    },
    {
     "data": {
      "text/plain": [
       "str"
      ]
     },
     "execution_count": 12,
     "metadata": {},
     "output_type": "execute_result"
    }
   ],
   "source": [
    "string='''People usually forgets to switch off light and fans after use at public places or class rooms. This leads to wastage of power or electricity. This method puts forward to provide automated services to class room and at the same time avoiding any unnecessary usage of power. The \"solution for the problem\" is Automatic Fan and Light Control System using Arduino \n",
    "The main objective was to design a solution for wastage of power which is more optimized with less complexity and more efficient''' \n",
    "print(string)\n",
    "type(string)"
   ]
  },
  {
   "cell_type": "markdown",
   "id": "2500b408",
   "metadata": {},
   "source": [
    "    # by the above code we noticed we can insert a \" in a triple single quotes"
   ]
  },
  {
   "cell_type": "code",
   "execution_count": 13,
   "id": "24189034",
   "metadata": {},
   "outputs": [
    {
     "name": "stdout",
     "output_type": "stream",
     "text": [
      "People usually forgets to switch off light and fans after use at public places or class rooms. This leads to wastage of power or electricity. This method puts forward to provide automated services to class room and at the same time avoiding any unnecessary usage of power. The solution for the problem is Automatic Fan and Light Control System using Arduino \n",
      "The main objective was to design a solution for wastage of power which is more optimized with less complexity and more efficient. With the help of ultrasonic distance sensor we can identify the range of  human and when the human is in range then it checks for light intensity and temperature. \n"
     ]
    },
    {
     "data": {
      "text/plain": [
       "str"
      ]
     },
     "execution_count": 13,
     "metadata": {},
     "output_type": "execute_result"
    }
   ],
   "source": [
    "string=\"\"\"People usually forgets to switch off light and fans after use at public places or class rooms. This leads to wastage of power or electricity. This method puts forward to provide automated services to class room and at the same time avoiding any unnecessary usage of power. The solution for the problem is Automatic Fan and Light Control System using Arduino \n",
    "The main objective was to design a solution for wastage of power which is more optimized with less complexity and more efficient. With the help of ultrasonic distance sensor we can identify the range of  human and when the human is in range then it checks for light intensity and temperature. \"\"\" \n",
    "print(string)\n",
    "type(string)"
   ]
  },
  {
   "cell_type": "markdown",
   "id": "2d65f498",
   "metadata": {},
   "source": [
    "    # triple double quotes are also used for muiltiline of string data"
   ]
  },
  {
   "cell_type": "code",
   "execution_count": 14,
   "id": "ead7a0f9",
   "metadata": {},
   "outputs": [
    {
     "name": "stdout",
     "output_type": "stream",
     "text": [
      "People usually forgets to switch off light and fans after use at public places or class rooms. This leads to wastage of power or electricity. This method puts forward to provide automated services to class room and at the same time avoiding any unnecessary usage of power. The solution for the problem is Automatic Fan and Light Control System using Arduino \n",
      "The main objective was to design a \"solution for wastage of power\" which is more optimized with less complexity and more efficient. With the help of ultrasonic distance sensor we can identify the range of  human and when the human is in range then it checks for light intensity and temperature. \n"
     ]
    },
    {
     "data": {
      "text/plain": [
       "str"
      ]
     },
     "execution_count": 14,
     "metadata": {},
     "output_type": "execute_result"
    }
   ],
   "source": [
    "string=\"\"\"People usually forgets to switch off light and fans after use at public places or class rooms. This leads to wastage of power or electricity. This method puts forward to provide automated services to class room and at the same time avoiding any unnecessary usage of power. The solution for the problem is Automatic Fan and Light Control System using Arduino \n",
    "The main objective was to design a \"solution for wastage of power\" which is more optimized with less complexity and more efficient. With the help of ultrasonic distance sensor we can identify the range of  human and when the human is in range then it checks for light intensity and temperature. \"\"\" \n",
    "print(string)\n",
    "type(string)"
   ]
  },
  {
   "cell_type": "markdown",
   "id": "9d046e31",
   "metadata": {},
   "source": [
    "    # by the above code we noticed we can insert a \" in a triple double quotes"
   ]
  },
  {
   "cell_type": "markdown",
   "id": "06843309",
   "metadata": {},
   "source": [
    "# escape sequence : \n",
    "this are used to insert \" ' \\ neline  and some other in the string. with the help of \\ we can insert  this."
   ]
  },
  {
   "cell_type": "code",
   "execution_count": 15,
   "id": "009dc80f",
   "metadata": {},
   "outputs": [
    {
     "name": "stdout",
     "output_type": "stream",
     "text": [
      "c:\\python32\\lib\n",
      "we are inserting double \" in the string \n",
      "we are inserting single ' in the string \n",
      "this prints in \n",
      "ew line\n"
     ]
    }
   ],
   "source": [
    "print(\"c:\\\\python32\\\\lib\") \n",
    "print(\"we are inserting double \\\" in the string \")\n",
    "print(\"we are inserting single \\' in the string \")\n",
    "print(\"this prints in \\new line\")  # in this i am not saying print the data in newline"
   ]
  },
  {
   "cell_type": "markdown",
   "id": "3d5e4efc",
   "metadata": {},
   "source": [
    "    # from the above code we noticed sometimes we get the unexpected results \n",
    "    # to rectify this we use r ------> it indicates the raw string "
   ]
  },
  {
   "cell_type": "code",
   "execution_count": 16,
   "id": "f5c12c07",
   "metadata": {},
   "outputs": [
    {
     "name": "stdout",
     "output_type": "stream",
     "text": [
      "this prints in \\new line\n",
      "this prints in \\new line\n",
      "People usually forgets to switch off light and fans after use at public places or class rooms. this is \\new line .This leads to wastage of power or electricity. This method puts forward to provide automated services to class room and at the same time avoiding any unnecessary usage of power. The solution for the problem is Automatic Fan and Light Control System using Arduino \n",
      "\\The main objective was to design a solution for wastage of power which is more optimized with less complexity and more efficient\n",
      "People usually forgets to switch off light and fans after use at public places or class rooms. this is \\new line .This leads to wastage of power or electricity. This method puts forward to provide automated services to class room and at the same time avoiding any unnecessary usage of power. The solution for the problem is Automatic Fan and Light Control System using Arduino \n",
      "\\The main objective was to design a solution for wastage of power which is more optimized with less complexity and more efficient\n"
     ]
    }
   ],
   "source": [
    "print(r'this prints in \\new line')\n",
    "print(r\"this prints in \\new line\")\n",
    "string=r'''People usually forgets to switch off light and fans after use at public places or class rooms. this is \\new line .This leads to wastage of power or electricity. This method puts forward to provide automated services to class room and at the same time avoiding any unnecessary usage of power. The solution for the problem is Automatic Fan and Light Control System using Arduino \n",
    "\\The main objective was to design a solution for wastage of power which is more optimized with less complexity and more efficient''' \n",
    "print(string)\n",
    "string=r\"\"\"People usually forgets to switch off light and fans after use at public places or class rooms. this is \\new line .This leads to wastage of power or electricity. This method puts forward to provide automated services to class room and at the same time avoiding any unnecessary usage of power. The solution for the problem is Automatic Fan and Light Control System using Arduino \n",
    "\\The main objective was to design a solution for wastage of power which is more optimized with less complexity and more efficient\"\"\" \n",
    "print(string)"
   ]
  },
  {
   "cell_type": "markdown",
   "id": "cdbab93e",
   "metadata": {},
   "source": [
    " "
   ]
  },
  {
   "cell_type": "markdown",
   "id": "478881cd",
   "metadata": {},
   "source": [
    " "
   ]
  },
  {
   "cell_type": "code",
   "execution_count": 17,
   "id": "1bcc0f30",
   "metadata": {},
   "outputs": [
    {
     "name": "stdout",
     "output_type": "stream",
     "text": [
      "5\n",
      "7\n",
      "the sum of a and b  12\n"
     ]
    }
   ],
   "source": [
    "a=int(input())\n",
    "b=int(input())\n",
    "print('the sum of a and b ',a+b)"
   ]
  },
  {
   "cell_type": "markdown",
   "id": "f7efa44d",
   "metadata": {},
   "source": [
    "    # from the above code we noticed that we don't know the values of and b\n",
    "    # it may be anything like (1+11,2+10,3+9,4+8,5+7,.......)\n",
    "    # need to know what values are adding \n",
    "    # to rectify this we use f ----> it indicates formatted string\n",
    "    Syntax:\n",
    "        print(f'the data we want to print and the variables of assigned value must be written in the curly braces {}'"
   ]
  },
  {
   "cell_type": "code",
   "execution_count": 18,
   "id": "3522b25e",
   "metadata": {},
   "outputs": [
    {
     "name": "stdout",
     "output_type": "stream",
     "text": [
      "7\n",
      "4\n",
      "the sum of 7 and 4 is :  11\n"
     ]
    }
   ],
   "source": [
    "a=int(input())\n",
    "b=int(input())\n",
    "print(f'the sum of {a} and {b} is : ',a+b)"
   ]
  },
  {
   "cell_type": "code",
   "execution_count": null,
   "id": "2b91b469",
   "metadata": {},
   "outputs": [],
   "source": []
  }
 ],
 "metadata": {
  "kernelspec": {
   "display_name": "Python 3",
   "language": "python",
   "name": "python3"
  },
  "language_info": {
   "codemirror_mode": {
    "name": "ipython",
    "version": 3
   },
   "file_extension": ".py",
   "mimetype": "text/x-python",
   "name": "python",
   "nbconvert_exporter": "python",
   "pygments_lexer": "ipython3",
   "version": "3.8.8"
  }
 },
 "nbformat": 4,
 "nbformat_minor": 5
}
